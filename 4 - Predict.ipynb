{
 "cells": [
  {
   "cell_type": "code",
   "execution_count": 1,
   "metadata": {},
   "outputs": [],
   "source": [
    "import pandas as pd\n",
    "import Predict\n",
    "from enumModels import RegressorModels, ClassificationModels\n",
    "\n",
    "\n",
    "test = pd.DataFrame({'Country': ['FR'],\n",
    "                    'Mp': ['RENAULT-NISSAN-MITSUBISHI'], \n",
    "                    'T': ['SR'], \n",
    "                    'Ct': ['M1'], \n",
    "                    'm (kg)': [1317], \n",
    "                    'W (mm)': [2673], \n",
    "                    'At1 (mm)': [1563], \n",
    "                    'Ft': ['petrol/electric'], \n",
    "                    'Fm': ['M'], \n",
    "                    'ec (cm3)': [1332], \n",
    "                    'ep (KW)': [96], \n",
    "                    'Fuel consumption': [2.2]})\n"
   ]
  },
  {
   "cell_type": "code",
   "execution_count": 2,
   "metadata": {},
   "outputs": [
    {
     "name": "stderr",
     "output_type": "stream",
     "text": [
      "c:\\Sources PP\\avr24_cds_co2\\.venv\\lib\\site-packages\\sklearn\\base.py:493: UserWarning: X does not have valid feature names, but MinMaxScaler was fitted with feature names\n",
      "  warnings.warn(\n"
     ]
    },
    {
     "data": {
      "text/plain": [
       "66.56780971920814"
      ]
     },
     "metadata": {},
     "output_type": "display_data"
    },
    {
     "name": "stderr",
     "output_type": "stream",
     "text": [
      "c:\\Sources PP\\avr24_cds_co2\\.venv\\lib\\site-packages\\sklearn\\base.py:493: UserWarning: X does not have valid feature names, but MinMaxScaler was fitted with feature names\n",
      "  warnings.warn(\n"
     ]
    },
    {
     "data": {
      "text/plain": [
       "89.42142476964175"
      ]
     },
     "metadata": {},
     "output_type": "display_data"
    }
   ],
   "source": [
    "predict = Predict.Predict(False)\n",
    "\n",
    "result = predict.calcRegressor(test, RegressorModels.SGD_REGRESSOR )\n",
    "display(result)\n",
    "result = predict.calcRegressor(test, RegressorModels.RANDOM_FOREST_REGRESSOR )\n",
    "display(result)\n",
    "\n",
    "result = predict.calcRegressor(test, RegressorModels.LINEAR_REGRESSOR )\n",
    "display(result)"
   ]
  },
  {
   "cell_type": "code",
   "execution_count": 3,
   "metadata": {},
   "outputs": [
    {
     "name": "stderr",
     "output_type": "stream",
     "text": [
      "c:\\Sources PP\\avr24_cds_co2\\.venv\\lib\\site-packages\\sklearn\\base.py:493: UserWarning: X does not have valid feature names, but MinMaxScaler was fitted with feature names\n",
      "  warnings.warn(\n"
     ]
    },
    {
     "data": {
      "text/plain": [
       "'A'"
      ]
     },
     "metadata": {},
     "output_type": "display_data"
    },
    {
     "name": "stderr",
     "output_type": "stream",
     "text": [
      "c:\\Sources PP\\avr24_cds_co2\\.venv\\lib\\site-packages\\sklearn\\base.py:493: UserWarning: X does not have valid feature names, but MinMaxScaler was fitted with feature names\n",
      "  warnings.warn(\n"
     ]
    },
    {
     "data": {
      "text/plain": [
       "'A'"
      ]
     },
     "metadata": {},
     "output_type": "display_data"
    }
   ],
   "source": [
    "result = predict.calcClassifier(test, ClassificationModels.RANDOM_FOREST_CLASSIFIER )\n",
    "display(result)\n",
    "result = predict.calcClassifier(test, ClassificationModels.BAGGING_CLASSIFIER )\n",
    "display(result)"
   ]
  }
 ],
 "metadata": {
  "kernelspec": {
   "display_name": ".venv",
   "language": "python",
   "name": "python3"
  },
  "language_info": {
   "codemirror_mode": {
    "name": "ipython",
    "version": 3
   },
   "file_extension": ".py",
   "mimetype": "text/x-python",
   "name": "python",
   "nbconvert_exporter": "python",
   "pygments_lexer": "ipython3",
   "version": "3.10.11"
  }
 },
 "nbformat": 4,
 "nbformat_minor": 2
}
